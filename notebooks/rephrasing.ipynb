{
 "cells": [
  {
   "cell_type": "code",
   "execution_count": null,
   "id": "6ca1d5ee-c7a3-4b7d-9563-e803e3e2ff3e",
   "metadata": {},
   "outputs": [],
   "source": [
    "import configparser\n",
    "import random\n",
    "\n",
    "import numpy as np\n",
    "import torch\n",
    "from llama_cpp import Llama\n",
    "from transformers import set_seed"
   ]
  },
  {
   "cell_type": "code",
   "execution_count": null,
   "id": "063ef6a0-a8c9-4ce4-b4c1-d908aa245bd9",
   "metadata": {},
   "outputs": [],
   "source": [
    "SEED_NUMBER = 42\n",
    "\n",
    "random.seed(SEED_NUMBER)\n",
    "np.random.seed(SEED_NUMBER)\n",
    "torch.manual_seed(SEED_NUMBER)\n",
    "set_seed(SEED_NUMBER)"
   ]
  },
  {
   "cell_type": "code",
   "execution_count": null,
   "id": "4d624c17-9570-46ec-b345-8986a5b089c7",
   "metadata": {},
   "outputs": [],
   "source": [
    "config_directory = \"../properties/local.ini\"\n",
    "config = configparser.ConfigParser()\n",
    "config.read(config_directory)\n",
    "\n",
    "rephrasing_model_directory = config[\"REPHRASING_MODEL\"][\"model_directory\"]"
   ]
  },
  {
   "cell_type": "code",
   "execution_count": null,
   "id": "c770a52c-a8d9-48a6-a2fe-e053c196839f",
   "metadata": {},
   "outputs": [],
   "source": [
    "rephrasing_model_directory"
   ]
  },
  {
   "cell_type": "code",
   "execution_count": null,
   "id": "9dd9e78c-f57b-4e85-beae-7c5516e180f2",
   "metadata": {
    "scrolled": true
   },
   "outputs": [],
   "source": [
    "rephrasing_model = Llama(\n",
    "    model_path=rephrasing_model_directory,\n",
    "    n_batch=512,\n",
    "    n_gpu_layers=-1,\n",
    "    n_ctx=2048,\n",
    "    verbose=False,\n",
    ")"
   ]
  },
  {
   "cell_type": "code",
   "execution_count": null,
   "id": "b1102f65-afa2-4118-8848-ba886f292cbc",
   "metadata": {},
   "outputs": [],
   "source": [
    "rephrasing_prompt = \"\"\"\n",
    "=================== Talimatlar ===================\n",
    "- Asagidaki cümleyi soru sözcükleri ekleyerek formatinda soruya dönüştürmelisin.\n",
    "- Cümle zaten bir soruysa, olduğu gibi bırak ve herhangi bir değişiklik yapma.\n",
    "- Yanıtta, dönüştürülmüş cümleyi not veya öneri olmadan ver.\n",
    "- Birden fazla soru varsa, yalnızca dönüştürülmüş soruları nokta işareti olmadan dönüştür.\n",
    "- Belirli bir cümlenin iki farklı soru versiyonu varsa, yalnızca birini ver.\n",
    "- Dönüşüm için aynı kelimeleri kullan, sadece ekstra soru sözcükleri ekle.\n",
    "- Aşağıdaki örnekleri kullanabilirsin.\n",
    "\n",
    "=================== Örnekler ===================\n",
    "örnek: Seftali suyu\n",
    "istenen versiyon: Seftali suyu nedir?\n",
    "\n",
    "örnek: Bilgisayarin batarya sarji.\n",
    "istenen versiyon: Bilgisayarin bataryasini ne sarj eder?\n",
    "\n",
    "örnek: Fransa'nin baskenti neresidir?\n",
    "istenen versiyon: Fransa'nin baskenti neresidir?\n",
    "=================================================\n",
    "\n",
    "<|im_start|>user\n",
    "{question}<|im_end|>\n",
    "<|im_start|>assistant\n",
    "\"\"\"\n",
    "\n",
    "# rephrasing_prompt = \"\"\"\n",
    "# =================== Talimatlar ===================\n",
    "# - Asagidaki cümleyi soru sözcükleri ekleyerek formatinda soruya dönüştürmelisin.\n",
    "# - Cümle zaten bir soruysa, olduğu gibi bırak ve herhangi bir değişiklik yapma.\n",
    "# - Yanıtta, dönüştürülmüş cümleyi not veya öneri olmadan ver.\n",
    "# - Birden fazla soru varsa, yalnızca dönüştürülmüş soruları nokta işareti olmadan dönüştür.\n",
    "# - Belirli bir cümlenin iki farklı soru versiyonu varsa, yalnızca birini ver.\n",
    "# - Dönüşüm için aynı kelimeleri kullan, sadece ekstra soru sözcükleri ekle.\n",
    "# - Aşağıdaki örnekleri kullanabilirsin.\n",
    "\n",
    "# =================== Örnekler ===================\n",
    "# örnek: Seftali suyu\n",
    "# istenen versiyon: Seftali suyu nedir?\n",
    "\n",
    "# örnek: Bilgisayarin batarya sarji.\n",
    "# istenen versiyon: Bilgisayarin bataryasini ne sarj eder?\n",
    "\n",
    "# örnek: Fransa'nin baskenti neresidir?\n",
    "# istenen versiyon: Fransa'nin baskenti neresidir?\n",
    "# =================================================\n",
    "\n",
    "# <|begin_of_text|>user\n",
    "# {question}<|eot_id|>\"\n",
    "# <|begin_of_text|>assistant\n",
    "# \"\"\""
   ]
  },
  {
   "cell_type": "code",
   "execution_count": null,
   "id": "e737b058-6026-4e51-9ad6-1668ee263cb9",
   "metadata": {},
   "outputs": [],
   "source": [
    "def transform_sentence(model: Llama, prompt: str) -> str:\n",
    "    output = model(\n",
    "        prompt=prompt,\n",
    "        temperature=0.2,\n",
    "        repeat_penalty=1.2,\n",
    "        max_tokens=1024,\n",
    "        stop=[\n",
    "            \"<|im_end|>\",\n",
    "            \"<|eot_id|>\",\n",
    "            \"<|end_of_text|>\",\n",
    "            \"\\n<|im_start|>\",\n",
    "            \"\\n<|begin_of_text|>\",\n",
    "            \"istenen versiyon\",\n",
    "            \"==\",\n",
    "            \"Human:\",\n",
    "            \"Assistant:\",\n",
    "        ],\n",
    "    )\n",
    "    generated_answer: str = output[\"choices\"][0][\"text\"]\n",
    "    return generated_answer"
   ]
  },
  {
   "cell_type": "code",
   "execution_count": null,
   "id": "ed27350d-6d8a-46e6-b917-5ef29ac3702a",
   "metadata": {},
   "outputs": [],
   "source": [
    "questions = [\n",
    "    \"modelin turkce dil destegi\",\n",
    "    \"paris'teki en kalabalik muzenin bilet fiyati\",\n",
    "    \"kafeinsiz kahve cesitleri\",\n",
    "    \"t-shirt'un buyuk bedeni\",\n",
    "    \"orhan pamuk cok unlur bir yazar. onun en cok satan romani\",\n",
    "    \"pantolonun kaliplari\",\n",
    "    \"4 kapili arabalarin fiyatlari ile 2 kapili arabalarin fiyatlari farki\",\n",
    "    \"istanbul'un en pahali semti neresidir?\",\n",
    "    \"samsung en iyi televizyonu lg'nin en iyi televizyonu\",\n",
    "    \"icecekler (alkollu)\",\n",
    "]"
   ]
  },
  {
   "cell_type": "code",
   "execution_count": null,
   "id": "1132c630-545e-4f59-b246-761e85f90edf",
   "metadata": {
    "scrolled": true
   },
   "outputs": [],
   "source": [
    "for question in questions:\n",
    "    rephrase_prompt = rephrasing_prompt.format(question=question)\n",
    "    rephrased_question = transform_sentence(\n",
    "        model=rephrasing_model, prompt=rephrase_prompt\n",
    "    )\n",
    "    print(\"Orijinal Cumle: \")\n",
    "    print(question)\n",
    "    print()\n",
    "    print(\"Yeniden Ifade Edilmis Cumle: \")\n",
    "    print(rephrased_question)\n",
    "    print()"
   ]
  }
 ],
 "metadata": {
  "kernelspec": {
   "display_name": "Python 3 (ipykernel)",
   "language": "python",
   "name": "python3"
  },
  "language_info": {
   "codemirror_mode": {
    "name": "ipython",
    "version": 3
   },
   "file_extension": ".py",
   "mimetype": "text/x-python",
   "name": "python",
   "nbconvert_exporter": "python",
   "pygments_lexer": "ipython3",
   "version": "3.12.3"
  }
 },
 "nbformat": 4,
 "nbformat_minor": 5
}
